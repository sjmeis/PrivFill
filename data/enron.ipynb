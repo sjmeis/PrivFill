{
 "cells": [
  {
   "cell_type": "code",
   "execution_count": 31,
   "id": "76c0c5e0",
   "metadata": {},
   "outputs": [],
   "source": [
    "import pandas as pd\n",
    "from pathlib import Path\n",
    "import numpy as np\n",
    "import nltk"
   ]
  },
  {
   "cell_type": "code",
   "execution_count": 62,
   "id": "9fff1ec2",
   "metadata": {},
   "outputs": [],
   "source": [
    "signoffs = [\"Best\",\n",
    "\"All the best\",\n",
    "\"Best wishes\",\n",
    "\"Best regards\",\n",
    "\"Sincerely\",\n",
    "\"Respectfully\",\n",
    "\"Regards\",\n",
    "\"Warm regards\",\n",
    "\"Kind regards\",\n",
    "\"Thank you,\",\n",
    "\"Thank you in advance,\",\n",
    "\"Talk to you soon\",\n",
    "\"Thanks,\"]"
   ]
  },
  {
   "cell_type": "code",
   "execution_count": 110,
   "id": "5eedb361",
   "metadata": {},
   "outputs": [
    {
     "data": {
      "text/plain": [
       "36966"
      ]
     },
     "execution_count": 110,
     "metadata": {},
     "output_type": "execute_result"
    }
   ],
   "source": [
    "all_data = []\n",
    "for d in Path(\"/path/to/enron/\").iterdir():\n",
    "    name = d.as_posix().split(\"/\")[-1]\n",
    "    for file in Path(d / \"sent_items\").rglob(\"*.\"):\n",
    "        with open(file, 'rb') as f:\n",
    "            try:\n",
    "                text = f.read().decode().strip()\n",
    "                text = text.split(\"-----Original Message-----\")[0]\n",
    "                \n",
    "                if in text or \"Reuters\" in text:\n",
    "                    continue\n",
    "                text = \" \".join(text.split(\"\\r\")[-1].strip().split())\n",
    "                text = text.split(\"From:\")[0]\n",
    "                \n",
    "                text = text.replace(\"\\\\'\", \"'\")\n",
    "                \n",
    "                signed = False\n",
    "                for s in signoffs:\n",
    "                    if s in text:\n",
    "                        text = \" \".join(text.split(s)[:-1]).strip()\n",
    "                        signed = True\n",
    "                        break\n",
    "                if signed == False and text.endswith(\".\") == False and text.endswith(\"?\") == False and text.endswith(\"!\") == False:\n",
    "                    text = \" \".join(text.split()[:-1])\n",
    "                \n",
    "                if text == \" \" or text == \"\":\n",
    "                    text = None\n",
    "            except UnicodeDecodeError:\n",
    "                continue\n",
    "            all_data.append({\"author\":name, \"text\":text})\n",
    "len(all_data)"
   ]
  },
  {
   "cell_type": "code",
   "execution_count": 111,
   "id": "57b3f1b9",
   "metadata": {},
   "outputs": [
    {
     "data": {
      "text/html": [
       "<div>\n",
       "<style scoped>\n",
       "    .dataframe tbody tr th:only-of-type {\n",
       "        vertical-align: middle;\n",
       "    }\n",
       "\n",
       "    .dataframe tbody tr th {\n",
       "        vertical-align: top;\n",
       "    }\n",
       "\n",
       "    .dataframe thead th {\n",
       "        text-align: right;\n",
       "    }\n",
       "</style>\n",
       "<table border=\"1\" class=\"dataframe\">\n",
       "  <thead>\n",
       "    <tr style=\"text-align: right;\">\n",
       "      <th></th>\n",
       "      <th>author</th>\n",
       "      <th>text</th>\n",
       "    </tr>\n",
       "  </thead>\n",
       "  <tbody>\n",
       "    <tr>\n",
       "      <th>0</th>\n",
       "      <td>lokey-t</td>\n",
       "      <td>Both are good for me.</td>\n",
       "    </tr>\n",
       "    <tr>\n",
       "      <th>1</th>\n",
       "      <td>lokey-t</td>\n",
       "      <td>Got it.</td>\n",
       "    </tr>\n",
       "    <tr>\n",
       "      <th>2</th>\n",
       "      <td>lokey-t</td>\n",
       "      <td>If Chattahoochee converted all of their SFTS t...</td>\n",
       "    </tr>\n",
       "    <tr>\n",
       "      <th>3</th>\n",
       "      <td>lokey-t</td>\n",
       "      <td>Kevin - We estimate the rate base at the end o...</td>\n",
       "    </tr>\n",
       "    <tr>\n",
       "      <th>4</th>\n",
       "      <td>lokey-t</td>\n",
       "      <td>Today's Inside FERC has a story indicating tha...</td>\n",
       "    </tr>\n",
       "    <tr>\n",
       "      <th>...</th>\n",
       "      <td>...</td>\n",
       "      <td>...</td>\n",
       "    </tr>\n",
       "    <tr>\n",
       "      <th>31029</th>\n",
       "      <td>king-j</td>\n",
       "      <td>Hey mom, Thanks for the info on Stan. What are...</td>\n",
       "    </tr>\n",
       "    <tr>\n",
       "      <th>31030</th>\n",
       "      <td>king-j</td>\n",
       "      <td>That was great.</td>\n",
       "    </tr>\n",
       "    <tr>\n",
       "      <th>31031</th>\n",
       "      <td>king-j</td>\n",
       "      <td>me too......gotta clean the</td>\n",
       "    </tr>\n",
       "    <tr>\n",
       "      <th>31032</th>\n",
       "      <td>king-j</td>\n",
       "      <td>Hey buddy, I'm closing on my new house that we...</td>\n",
       "    </tr>\n",
       "    <tr>\n",
       "      <th>31033</th>\n",
       "      <td>king-j</td>\n",
       "      <td>gas unchanged.........tried to pop up to 2.30 ...</td>\n",
       "    </tr>\n",
       "  </tbody>\n",
       "</table>\n",
       "<p>31034 rows × 2 columns</p>\n",
       "</div>"
      ],
      "text/plain": [
       "        author                                               text\n",
       "0      lokey-t                              Both are good for me.\n",
       "1      lokey-t                                            Got it.\n",
       "2      lokey-t  If Chattahoochee converted all of their SFTS t...\n",
       "3      lokey-t  Kevin - We estimate the rate base at the end o...\n",
       "4      lokey-t  Today's Inside FERC has a story indicating tha...\n",
       "...        ...                                                ...\n",
       "31029   king-j  Hey mom, Thanks for the info on Stan. What are...\n",
       "31030   king-j                                    That was great.\n",
       "31031   king-j                        me too......gotta clean the\n",
       "31032   king-j  Hey buddy, I'm closing on my new house that we...\n",
       "31033   king-j  gas unchanged.........tried to pop up to 2.30 ...\n",
       "\n",
       "[31034 rows x 2 columns]"
      ]
     },
     "execution_count": 111,
     "metadata": {},
     "output_type": "execute_result"
    }
   ],
   "source": [
    "df = pd.DataFrame(all_data).dropna().reset_index().drop(\"index\", axis=1)\n",
    "df"
   ]
  },
  {
   "cell_type": "code",
   "execution_count": 112,
   "id": "399d67a8",
   "metadata": {},
   "outputs": [
    {
     "data": {
      "text/plain": [
       "\"Hey buddy, I'm closing on my new house that week so that may be tough. There is a chance that i could get away on Saturday morning so let me know your schedule. Hope the family is well.\""
      ]
     },
     "execution_count": 112,
     "metadata": {},
     "output_type": "execute_result"
    }
   ],
   "source": [
    "df.iloc[-2].text"
   ]
  },
  {
   "cell_type": "code",
   "execution_count": 113,
   "id": "4d416b07",
   "metadata": {},
   "outputs": [],
   "source": [
    "df.to_csv(\"enron_sent_all.csv\", index=False)"
   ]
  },
  {
   "cell_type": "code",
   "execution_count": 114,
   "id": "e27b0997",
   "metadata": {},
   "outputs": [
    {
     "data": {
      "text/plain": [
       "dasovich-j    1287\n",
       "steffes-j     1236\n",
       "germany-c     1178\n",
       "kaminski-v     977\n",
       "kitchen-l      953\n",
       "              ... \n",
       "badeer-r         5\n",
       "quenet-j         5\n",
       "gay-r            4\n",
       "phanis-s         3\n",
       "shapiro-r        1\n",
       "Name: author, Length: 136, dtype: int64"
      ]
     },
     "execution_count": 114,
     "metadata": {},
     "output_type": "execute_result"
    }
   ],
   "source": [
    "df.author.value_counts()"
   ]
  },
  {
   "cell_type": "code",
   "execution_count": 115,
   "id": "48b5ba23",
   "metadata": {},
   "outputs": [
    {
     "data": {
      "text/plain": [
       "388.0"
      ]
     },
     "execution_count": 115,
     "metadata": {},
     "output_type": "execute_result"
    }
   ],
   "source": [
    "p = np.percentile(list(dict(df.author.value_counts()).values()), 80)\n",
    "p"
   ]
  },
  {
   "cell_type": "code",
   "execution_count": 116,
   "id": "d66d1971",
   "metadata": {},
   "outputs": [
    {
     "data": {
      "text/plain": [
       "28"
      ]
     },
     "execution_count": 116,
     "metadata": {},
     "output_type": "execute_result"
    }
   ],
   "source": [
    "top = [k for k, v in dict(df.author.value_counts()).items() if v >= int(p)]\n",
    "len(top)"
   ]
  },
  {
   "cell_type": "code",
   "execution_count": 117,
   "id": "94084e1c",
   "metadata": {},
   "outputs": [
    {
     "data": {
      "text/html": [
       "<div>\n",
       "<style scoped>\n",
       "    .dataframe tbody tr th:only-of-type {\n",
       "        vertical-align: middle;\n",
       "    }\n",
       "\n",
       "    .dataframe tbody tr th {\n",
       "        vertical-align: top;\n",
       "    }\n",
       "\n",
       "    .dataframe thead th {\n",
       "        text-align: right;\n",
       "    }\n",
       "</style>\n",
       "<table border=\"1\" class=\"dataframe\">\n",
       "  <thead>\n",
       "    <tr style=\"text-align: right;\">\n",
       "      <th></th>\n",
       "      <th>author</th>\n",
       "      <th>text</th>\n",
       "    </tr>\n",
       "  </thead>\n",
       "  <tbody>\n",
       "    <tr>\n",
       "      <th>331</th>\n",
       "      <td>dasovich-j</td>\n",
       "      <td>His name is Sean Steele. I'll have his number ...</td>\n",
       "    </tr>\n",
       "    <tr>\n",
       "      <th>332</th>\n",
       "      <td>dasovich-j</td>\n",
       "      <td>Don't hate me for sending a note. What do you ...</td>\n",
       "    </tr>\n",
       "    <tr>\n",
       "      <th>333</th>\n",
       "      <td>dasovich-j</td>\n",
       "      <td>Here's a cut at the taxonomy of regulatory ris...</td>\n",
       "    </tr>\n",
       "    <tr>\n",
       "      <th>334</th>\n",
       "      <td>dasovich-j</td>\n",
       "      <td>Thanks. I'm in Goucester Mass this week but am...</td>\n",
       "    </tr>\n",
       "    <tr>\n",
       "      <th>335</th>\n",
       "      <td>dasovich-j</td>\n",
       "      <td>Can I distribute to the business groups?</td>\n",
       "    </tr>\n",
       "    <tr>\n",
       "      <th>...</th>\n",
       "      <td>...</td>\n",
       "      <td>...</td>\n",
       "    </tr>\n",
       "    <tr>\n",
       "      <th>30883</th>\n",
       "      <td>blair-l</td>\n",
       "      <td>John please send this to Shelly Thanks Lynn --...</td>\n",
       "    </tr>\n",
       "    <tr>\n",
       "      <th>30884</th>\n",
       "      <td>blair-l</td>\n",
       "      <td>FYI. Thanks.</td>\n",
       "    </tr>\n",
       "    <tr>\n",
       "      <th>30885</th>\n",
       "      <td>blair-l</td>\n",
       "      <td>Ranelle, I have a meeting Tuesday afternoon fr...</td>\n",
       "    </tr>\n",
       "    <tr>\n",
       "      <th>30886</th>\n",
       "      <td>blair-l</td>\n",
       "      <td>FYI. Thought you would be interested since mos...</td>\n",
       "    </tr>\n",
       "    <tr>\n",
       "      <th>30887</th>\n",
       "      <td>blair-l</td>\n",
       "      <td>Lisa, I will not be able to walk, but put me d...</td>\n",
       "    </tr>\n",
       "  </tbody>\n",
       "</table>\n",
       "<p>18547 rows × 2 columns</p>\n",
       "</div>"
      ],
      "text/plain": [
       "           author                                               text\n",
       "331    dasovich-j  His name is Sean Steele. I'll have his number ...\n",
       "332    dasovich-j  Don't hate me for sending a note. What do you ...\n",
       "333    dasovich-j  Here's a cut at the taxonomy of regulatory ris...\n",
       "334    dasovich-j  Thanks. I'm in Goucester Mass this week but am...\n",
       "335    dasovich-j           Can I distribute to the business groups?\n",
       "...           ...                                                ...\n",
       "30883     blair-l  John please send this to Shelly Thanks Lynn --...\n",
       "30884     blair-l                                       FYI. Thanks.\n",
       "30885     blair-l  Ranelle, I have a meeting Tuesday afternoon fr...\n",
       "30886     blair-l  FYI. Thought you would be interested since mos...\n",
       "30887     blair-l  Lisa, I will not be able to walk, but put me d...\n",
       "\n",
       "[18547 rows x 2 columns]"
      ]
     },
     "execution_count": 117,
     "metadata": {},
     "output_type": "execute_result"
    }
   ],
   "source": [
    "topdf = df[df.author.isin(top)]\n",
    "topdf"
   ]
  },
  {
   "cell_type": "code",
   "execution_count": 118,
   "id": "13558af3",
   "metadata": {},
   "outputs": [
    {
     "data": {
      "text/plain": [
       "\"Am I reading this right? The gas contracts are $5B out of the money (from CA's perspective)? Are they straight gas deals?\""
      ]
     },
     "execution_count": 118,
     "metadata": {},
     "output_type": "execute_result"
    }
   ],
   "source": [
    "topdf.iloc[123].text"
   ]
  },
  {
   "cell_type": "code",
   "execution_count": 119,
   "id": "e7e1c466",
   "metadata": {},
   "outputs": [
    {
     "data": {
      "text/plain": [
       "dasovich-j       1287\n",
       "steffes-j        1236\n",
       "germany-c        1178\n",
       "kaminski-v        977\n",
       "kitchen-l         953\n",
       "watson-k          897\n",
       "presto-k          862\n",
       "blair-l           814\n",
       "heard-m           715\n",
       "lenhart-m         684\n",
       "ward-k            601\n",
       "arnold-j          601\n",
       "scott-s           565\n",
       "corman-s          561\n",
       "lavorato-j        551\n",
       "nemec-g           540\n",
       "shackleton-s      526\n",
       "perlingiere-d     514\n",
       "dorland-c         489\n",
       "love-p            486\n",
       "cash-m            481\n",
       "hayslett-r        476\n",
       "williams-w3       459\n",
       "quigley-d         444\n",
       "taylor-m          435\n",
       "parks-j           427\n",
       "white-s           400\n",
       "forney-j          388\n",
       "Name: author, dtype: int64"
      ]
     },
     "execution_count": 119,
     "metadata": {},
     "output_type": "execute_result"
    }
   ],
   "source": [
    "topdf.author.value_counts()"
   ]
  },
  {
   "cell_type": "code",
   "execution_count": 120,
   "id": "00df9e09",
   "metadata": {},
   "outputs": [],
   "source": [
    "topdf.to_csv(\"enron.csv\", index=False)"
   ]
  },
  {
   "cell_type": "markdown",
   "id": "f4ab69f0",
   "metadata": {},
   "source": [
    "# filter"
   ]
  },
  {
   "cell_type": "code",
   "execution_count": 121,
   "id": "90b9dc9f",
   "metadata": {},
   "outputs": [],
   "source": [
    "df = pd.read_csv(\"enron.csv\")"
   ]
  },
  {
   "cell_type": "code",
   "execution_count": 129,
   "id": "8b076a78",
   "metadata": {},
   "outputs": [],
   "source": [
    "mask = [True if len(nltk.sent_tokenize(x)) > 1 else False for x in df.text]"
   ]
  },
  {
   "cell_type": "code",
   "execution_count": 136,
   "id": "4c183977",
   "metadata": {},
   "outputs": [
    {
     "data": {
      "text/plain": [
       "\"Who loves ya baby? Hey, don't say anything to Karen, or her parents, but I'd like to get something for her parents as a thank you for Gloucester. What sorts of things do they like? You heard that Prentice got a job offer from Price Waterhouse?! See you on Friday!\""
      ]
     },
     "execution_count": 136,
     "metadata": {},
     "output_type": "execute_result"
    }
   ],
   "source": [
    "filtered = df[mask]\n",
    "filtered.iloc[2].text"
   ]
  },
  {
   "cell_type": "code",
   "execution_count": 132,
   "id": "a9094bf6",
   "metadata": {},
   "outputs": [],
   "source": [
    "filtered.to_csv(\"enron.csv\", index=False)"
   ]
  }
 ],
 "metadata": {
  "kernelspec": {
   "display_name": "Python 3 (ipykernel)",
   "language": "python",
   "name": "python3"
  },
  "language_info": {
   "codemirror_mode": {
    "name": "ipython",
    "version": 3
   },
   "file_extension": ".py",
   "mimetype": "text/x-python",
   "name": "python",
   "nbconvert_exporter": "python",
   "pygments_lexer": "ipython3",
   "version": "3.8.10"
  }
 },
 "nbformat": 4,
 "nbformat_minor": 5
}
